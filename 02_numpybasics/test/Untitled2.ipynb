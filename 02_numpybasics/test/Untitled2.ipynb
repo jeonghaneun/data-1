{
 "cells": [
  {
   "cell_type": "code",
   "execution_count": 1,
   "id": "maritime-flexibility",
   "metadata": {},
   "outputs": [
    {
     "name": "stdout",
     "output_type": "stream",
     "text": [
      "*\n",
      "**\n",
      "***\n",
      "****\n",
      "*****\n"
     ]
    }
   ],
   "source": [
    "print(\"\"\"*\n",
    "**\n",
    "***\n",
    "****\n",
    "*****\"\"\")"
   ]
  },
  {
   "cell_type": "code",
   "execution_count": 2,
   "id": "informational-philadelphia",
   "metadata": {},
   "outputs": [],
   "source": [
    "c = 18"
   ]
  },
  {
   "cell_type": "code",
   "execution_count": 3,
   "id": "desperate-cyprus",
   "metadata": {},
   "outputs": [],
   "source": [
    "f = c *(9/5) +32"
   ]
  },
  {
   "cell_type": "code",
   "execution_count": 4,
   "id": "unique-brother",
   "metadata": {},
   "outputs": [
    {
     "data": {
      "text/plain": [
       "64.4"
      ]
     },
     "execution_count": 4,
     "metadata": {},
     "output_type": "execute_result"
    }
   ],
   "source": [
    "f"
   ]
  },
  {
   "cell_type": "code",
   "execution_count": null,
   "id": "designed-header",
   "metadata": {},
   "outputs": [],
   "source": []
  }
 ],
 "metadata": {
  "kernelspec": {
   "display_name": "Python 3",
   "language": "python",
   "name": "python3"
  },
  "language_info": {
   "codemirror_mode": {
    "name": "ipython",
    "version": 3
   },
   "file_extension": ".py",
   "mimetype": "text/x-python",
   "name": "python",
   "nbconvert_exporter": "python",
   "pygments_lexer": "ipython3",
   "version": "3.8.5"
  }
 },
 "nbformat": 4,
 "nbformat_minor": 5
}
