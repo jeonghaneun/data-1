{
 "cells": [
  {
   "cell_type": "markdown",
   "id": "given-guess",
   "metadata": {},
   "source": [
    "IcecreamShop"
   ]
  },
  {
   "cell_type": "code",
   "execution_count": 3,
   "id": "living-shame",
   "metadata": {},
   "outputs": [],
   "source": [
    "import numpy as np"
   ]
  },
  {
   "cell_type": "code",
   "execution_count": 4,
   "id": "expressed-reggae",
   "metadata": {},
   "outputs": [],
   "source": [
    "menu = np.array([\n",
    "    [2,10],\n",
    "    [3,10],\n",
    "    [4,10],\n",
    "    [5,10],\n",
    "    [6,10],\n",
    "])\n",
    "\n",
    "name = np.array([\"Chocolate\", \"Vanila\", \"strawberry\", \"Orange\", \"Apple\"])\n",
    "feature = np.array([\"Price\", \"Stock\"])\n",
    "\n"
   ]
  },
  {
   "cell_type": "code",
   "execution_count": 5,
   "id": "noble-portable",
   "metadata": {},
   "outputs": [
    {
     "data": {
      "text/plain": [
       "array([[ 2, 10],\n",
       "       [ 4, 10]])"
      ]
     },
     "execution_count": 5,
     "metadata": {},
     "output_type": "execute_result"
    }
   ],
   "source": [
    "menu[(name == \"Chocolate\") | (name == \"strawberry\")]"
   ]
  },
  {
   "cell_type": "code",
   "execution_count": 6,
   "id": "lined-template",
   "metadata": {},
   "outputs": [
    {
     "data": {
      "text/plain": [
       "array([10])"
      ]
     },
     "execution_count": 6,
     "metadata": {},
     "output_type": "execute_result"
    }
   ],
   "source": [
    "menu[name == \"Chocolate\", feature == \"Stock\"]"
   ]
  },
  {
   "cell_type": "code",
   "execution_count": 7,
   "id": "functional-harbor",
   "metadata": {},
   "outputs": [],
   "source": [
    "def menu_data(name_data, feature_data):\n",
    "    return menu[name == name_data, feature == feature_data]"
   ]
  },
  {
   "cell_type": "code",
   "execution_count": 8,
   "id": "micro-fellowship",
   "metadata": {},
   "outputs": [
    {
     "data": {
      "text/plain": [
       "array([10])"
      ]
     },
     "execution_count": 8,
     "metadata": {},
     "output_type": "execute_result"
    }
   ],
   "source": [
    "menu_data(\"Apple\",\"Stock\")"
   ]
  },
  {
   "cell_type": "code",
   "execution_count": 34,
   "id": "conscious-welding",
   "metadata": {},
   "outputs": [],
   "source": [
    "money = 0\n",
    "#일반적 정수\n",
    "def buy_icecream(menu, icecream,money):\n",
    "    money += menu_data(icecream,\"Price\")\n",
    "    menu[name==icecream, feature==\"Stock\"] -= 1\n",
    "    return money"
   ]
  },
  {
   "cell_type": "code",
   "execution_count": 33,
   "id": "heavy-lesbian",
   "metadata": {},
   "outputs": [
    {
     "data": {
      "text/plain": [
       "(array([[ 2, 10],\n",
       "        [ 3,  4],\n",
       "        [ 4, 10],\n",
       "        [ 5, 10],\n",
       "        [ 6,  1]]),\n",
       " array([79]))"
      ]
     },
     "execution_count": 33,
     "metadata": {},
     "output_type": "execute_result"
    }
   ],
   "source": [
    "money = buy_icecream(menu, \"Apple\", money)\n",
    "menu,money"
   ]
  },
  {
   "cell_type": "markdown",
   "id": "enormous-yacht",
   "metadata": {},
   "source": [
    "메뉴추가"
   ]
  },
  {
   "cell_type": "code",
   "execution_count": 11,
   "id": "frozen-healthcare",
   "metadata": {},
   "outputs": [],
   "source": [
    "name = np.append(name, [\"Banana\"])"
   ]
  },
  {
   "cell_type": "code",
   "execution_count": 12,
   "id": "whole-citizenship",
   "metadata": {},
   "outputs": [
    {
     "data": {
      "text/plain": [
       "array(['Chocolate', 'Vanila', 'strawberry', 'Orange', 'Apple', 'Banana'],\n",
       "      dtype='<U10')"
      ]
     },
     "execution_count": 12,
     "metadata": {},
     "output_type": "execute_result"
    }
   ],
   "source": [
    "name"
   ]
  },
  {
   "cell_type": "code",
   "execution_count": 13,
   "id": "experimental-supervisor",
   "metadata": {},
   "outputs": [],
   "source": [
    "menu = np.append(menu, np.array([[7,10]]), axis=0)"
   ]
  },
  {
   "cell_type": "code",
   "execution_count": 14,
   "id": "plain-clinic",
   "metadata": {},
   "outputs": [
    {
     "data": {
      "text/plain": [
       "array([[ 2, 10],\n",
       "       [ 3, 10],\n",
       "       [ 4, 10],\n",
       "       [ 5, 10],\n",
       "       [ 6,  9],\n",
       "       [ 7, 10]])"
      ]
     },
     "execution_count": 14,
     "metadata": {},
     "output_type": "execute_result"
    }
   ],
   "source": [
    "menu"
   ]
  },
  {
   "cell_type": "code",
   "execution_count": 15,
   "id": "literary-deadline",
   "metadata": {},
   "outputs": [
    {
     "data": {
      "text/plain": [
       "(array([[ 2, 10],\n",
       "        [ 3, 10],\n",
       "        [ 4, 10],\n",
       "        [ 5, 10],\n",
       "        [ 6,  9],\n",
       "        [ 7,  9]]),\n",
       " array([13]))"
      ]
     },
     "execution_count": 15,
     "metadata": {},
     "output_type": "execute_result"
    }
   ],
   "source": [
    "money = buy_icecream(menu,\"Banana\",money)\n",
    "menu, money\n"
   ]
  },
  {
   "cell_type": "markdown",
   "id": "informational-pulse",
   "metadata": {},
   "source": [
    "메뉴없애기"
   ]
  },
  {
   "cell_type": "code",
   "execution_count": 16,
   "id": "proper-brush",
   "metadata": {},
   "outputs": [],
   "source": [
    "truth = name != \"Banana\""
   ]
  },
  {
   "cell_type": "code",
   "execution_count": 17,
   "id": "brutal-factory",
   "metadata": {},
   "outputs": [],
   "source": [
    "name = name[truth]\n",
    "menu = menu[truth]"
   ]
  },
  {
   "cell_type": "code",
   "execution_count": 18,
   "id": "productive-baking",
   "metadata": {},
   "outputs": [
    {
     "data": {
      "text/plain": [
       "(array(['Chocolate', 'Vanila', 'strawberry', 'Orange', 'Apple'],\n",
       "       dtype='<U10'),\n",
       " array([[ 2, 10],\n",
       "        [ 3, 10],\n",
       "        [ 4, 10],\n",
       "        [ 5, 10],\n",
       "        [ 6,  9]]))"
      ]
     },
     "execution_count": 18,
     "metadata": {},
     "output_type": "execute_result"
    }
   ],
   "source": [
    "name,menu"
   ]
  },
  {
   "cell_type": "markdown",
   "id": "placed-sleeve",
   "metadata": {},
   "source": [
    "재고 확인 후 리필"
   ]
  },
  {
   "cell_type": "code",
   "execution_count": 25,
   "id": "extended-appliance",
   "metadata": {},
   "outputs": [
    {
     "data": {
      "text/plain": [
       "array([[10],\n",
       "       [ 4],\n",
       "       [10],\n",
       "       [10],\n",
       "       [ 9]])"
      ]
     },
     "execution_count": 25,
     "metadata": {},
     "output_type": "execute_result"
    }
   ],
   "source": [
    "money = buy_icecream(menu, \"Vanila\", money)\n",
    "stock = menu[:, feature==\"Stock\"]\n",
    "stock"
   ]
  },
  {
   "cell_type": "code",
   "execution_count": 20,
   "id": "wooden-dancing",
   "metadata": {},
   "outputs": [
    {
     "data": {
      "text/plain": [
       "array([[ True],\n",
       "       [ True],\n",
       "       [ True],\n",
       "       [ True],\n",
       "       [ True]])"
      ]
     },
     "execution_count": 20,
     "metadata": {},
     "output_type": "execute_result"
    }
   ],
   "source": [
    "stock > 5"
   ]
  },
  {
   "cell_type": "code",
   "execution_count": 86,
   "id": "adequate-patrol",
   "metadata": {},
   "outputs": [
    {
     "data": {
      "text/plain": [
       "array([[10],\n",
       "       [10],\n",
       "       [10],\n",
       "       [10],\n",
       "       [ 9]])"
      ]
     },
     "execution_count": 86,
     "metadata": {},
     "output_type": "execute_result"
    }
   ],
   "source": [
    "stock = np.where(stock>5, stock, 10)\n",
    "stock"
   ]
  },
  {
   "cell_type": "code",
   "execution_count": null,
   "id": "partial-faith",
   "metadata": {},
   "outputs": [],
   "source": []
  }
 ],
 "metadata": {
  "kernelspec": {
   "display_name": "Python 3",
   "language": "python",
   "name": "python3"
  },
  "language_info": {
   "codemirror_mode": {
    "name": "ipython",
    "version": 3
   },
   "file_extension": ".py",
   "mimetype": "text/x-python",
   "name": "python",
   "nbconvert_exporter": "python",
   "pygments_lexer": "ipython3",
   "version": "3.8.5"
  }
 },
 "nbformat": 4,
 "nbformat_minor": 5
}
