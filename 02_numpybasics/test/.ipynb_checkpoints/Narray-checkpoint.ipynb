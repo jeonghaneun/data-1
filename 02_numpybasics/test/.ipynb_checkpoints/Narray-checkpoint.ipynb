{
 "cells": [
  {
   "cell_type": "markdown",
   "id": "limiting-verification",
   "metadata": {},
   "source": [
    "## Title-Narray"
   ]
  },
  {
   "cell_type": "markdown",
   "id": "seasonal-proposition",
   "metadata": {},
   "source": [
    "***numpy***\n",
    "넘파이 라이브러리 이용"
   ]
  },
  {
   "cell_type": "code",
   "execution_count": 3,
   "id": "solid-rendering",
   "metadata": {},
   "outputs": [],
   "source": [
    "import numpy\n"
   ]
  },
  {
   "cell_type": "markdown",
   "id": "statewide-posting",
   "metadata": {},
   "source": [
    "1차원"
   ]
  },
  {
   "cell_type": "code",
   "execution_count": 4,
   "id": "defined-european",
   "metadata": {},
   "outputs": [],
   "source": [
    "narray1 = numpy.array([1,2,3,4])"
   ]
  },
  {
   "cell_type": "markdown",
   "id": "fallen-making",
   "metadata": {},
   "source": [
    "2차원"
   ]
  },
  {
   "cell_type": "code",
   "execution_count": 5,
   "id": "fossil-filename",
   "metadata": {},
   "outputs": [],
   "source": [
    "narray2 = numpy.array([narray1,narray1])"
   ]
  },
  {
   "cell_type": "markdown",
   "id": "applicable-geometry",
   "metadata": {},
   "source": [
    "3차원"
   ]
  },
  {
   "cell_type": "code",
   "execution_count": 6,
   "id": "turkish-colon",
   "metadata": {},
   "outputs": [],
   "source": [
    "narray3 = numpy.array([narray2,narray2])"
   ]
  },
  {
   "cell_type": "markdown",
   "id": "behind-notion",
   "metadata": {},
   "source": [
    "4차원 "
   ]
  },
  {
   "cell_type": "code",
   "execution_count": 7,
   "id": "pretty-resource",
   "metadata": {},
   "outputs": [],
   "source": [
    "narray4 = numpy.array([narray3,narray3])"
   ]
  },
  {
   "cell_type": "code",
   "execution_count": 18,
   "id": "architectural-dividend",
   "metadata": {},
   "outputs": [
    {
     "name": "stdout",
     "output_type": "stream",
     "text": [
      "[[[[1 2 3 4]\n",
      "   [1 2 3 4]]\n",
      "\n",
      "  [[1 2 3 4]\n",
      "   [1 2 3 4]]]\n",
      "\n",
      "\n",
      " [[[1 2 3 4]\n",
      "   [1 2 3 4]]\n",
      "\n",
      "  [[1 2 3 4]\n",
      "   [1 2 3 4]]]]\n",
      "4\n",
      "3\n"
     ]
    }
   ],
   "source": [
    "print(narray4)\n",
    "print(narray4.ndim)\n",
    "print(narray4[0, 0, 0, 2])"
   ]
  },
  {
   "cell_type": "code",
   "execution_count": null,
   "id": "provincial-andrew",
   "metadata": {},
   "outputs": [],
   "source": []
  }
 ],
 "metadata": {
  "kernelspec": {
   "display_name": "Python 3",
   "language": "python",
   "name": "python3"
  },
  "language_info": {
   "codemirror_mode": {
    "name": "ipython",
    "version": 3
   },
   "file_extension": ".py",
   "mimetype": "text/x-python",
   "name": "python",
   "nbconvert_exporter": "python",
   "pygments_lexer": "ipython3",
   "version": "3.8.5"
  }
 },
 "nbformat": 4,
 "nbformat_minor": 5
}
