{
 "cells": [
  {
   "cell_type": "markdown",
   "id": "every-vocabulary",
   "metadata": {},
   "source": [
    "IcecreamShop"
   ]
  },
  {
   "cell_type": "code",
   "execution_count": 57,
   "id": "national-corps",
   "metadata": {},
   "outputs": [],
   "source": [
    "import numpy as np"
   ]
  },
  {
   "cell_type": "code",
   "execution_count": 58,
   "id": "banned-bristol",
   "metadata": {},
   "outputs": [],
   "source": [
    "menu = np.array([\n",
    "    [2,10],\n",
    "    [3,10],\n",
    "    [4,10],\n",
    "    [5,10],\n",
    "    [6,10],\n",
    "])\n",
    "\n",
    "name = np.array([\"Chocolate\", \"Vanila\", \"strawberry\", \"Orange\", \"Apple\"])\n",
    "feature = np.array([\"Price\", \"Stock\"])\n",
    "\n"
   ]
  },
  {
   "cell_type": "code",
   "execution_count": 59,
   "id": "distant-plumbing",
   "metadata": {},
   "outputs": [
    {
     "data": {
      "text/plain": [
       "array([[ 2, 10],\n",
       "       [ 4, 10]])"
      ]
     },
     "execution_count": 59,
     "metadata": {},
     "output_type": "execute_result"
    }
   ],
   "source": [
    "menu[(name == \"Chocolate\") | (name == \"strawberry\")]"
   ]
  },
  {
   "cell_type": "code",
   "execution_count": 60,
   "id": "indoor-bookmark",
   "metadata": {},
   "outputs": [
    {
     "data": {
      "text/plain": [
       "array([10])"
      ]
     },
     "execution_count": 60,
     "metadata": {},
     "output_type": "execute_result"
    }
   ],
   "source": [
    "menu[name == \"Chocolate\", feature == \"Stock\"]"
   ]
  },
  {
   "cell_type": "code",
   "execution_count": 61,
   "id": "express-person",
   "metadata": {},
   "outputs": [],
   "source": [
    "def menu_data(name_data, feature_data):\n",
    "    return menu[name == name_data, feature == feature_data]"
   ]
  },
  {
   "cell_type": "code",
   "execution_count": 62,
   "id": "cooperative-swift",
   "metadata": {},
   "outputs": [
    {
     "data": {
      "text/plain": [
       "array([10])"
      ]
     },
     "execution_count": 62,
     "metadata": {},
     "output_type": "execute_result"
    }
   ],
   "source": [
    "menu_data(\"Apple\",\"Stock\")"
   ]
  },
  {
   "cell_type": "code",
   "execution_count": 63,
   "id": "assumed-intranet",
   "metadata": {},
   "outputs": [],
   "source": [
    "money = 0\n",
    "#일반적 정수\n",
    "def buy_icecream(menu, icecream,money):\n",
    "    money += menu_data(icecream,\"Price\")\n",
    "    menu[name==icecream, feature==\"Stock\"] -= 1\n",
    "    return money"
   ]
  },
  {
   "cell_type": "code",
   "execution_count": 64,
   "id": "understanding-tribe",
   "metadata": {},
   "outputs": [
    {
     "data": {
      "text/plain": [
       "(array([[ 2, 10],\n",
       "        [ 3, 10],\n",
       "        [ 4, 10],\n",
       "        [ 5, 10],\n",
       "        [ 6,  9]]),\n",
       " array([6]))"
      ]
     },
     "execution_count": 64,
     "metadata": {},
     "output_type": "execute_result"
    }
   ],
   "source": [
    "money = buy_icecream(menu, \"Apple\", money)\n",
    "menu,money"
   ]
  },
  {
   "cell_type": "markdown",
   "id": "permanent-sociology",
   "metadata": {},
   "source": [
    "메뉴추가"
   ]
  },
  {
   "cell_type": "code",
   "execution_count": 65,
   "id": "enormous-future",
   "metadata": {},
   "outputs": [],
   "source": [
    "name = np.append(name, [\"Banana\"])"
   ]
  },
  {
   "cell_type": "code",
   "execution_count": 66,
   "id": "subject-thought",
   "metadata": {},
   "outputs": [
    {
     "data": {
      "text/plain": [
       "array(['Chocolate', 'Vanila', 'strawberry', 'Orange', 'Apple', 'Banana'],\n",
       "      dtype='<U10')"
      ]
     },
     "execution_count": 66,
     "metadata": {},
     "output_type": "execute_result"
    }
   ],
   "source": [
    "name"
   ]
  },
  {
   "cell_type": "code",
   "execution_count": 67,
   "id": "improved-return",
   "metadata": {},
   "outputs": [],
   "source": [
    "menu = np.append(menu, np.array([[7,10]]), axis=0)"
   ]
  },
  {
   "cell_type": "code",
   "execution_count": 68,
   "id": "presidential-deposit",
   "metadata": {},
   "outputs": [
    {
     "data": {
      "text/plain": [
       "array([[ 2, 10],\n",
       "       [ 3, 10],\n",
       "       [ 4, 10],\n",
       "       [ 5, 10],\n",
       "       [ 6,  9],\n",
       "       [ 7, 10]])"
      ]
     },
     "execution_count": 68,
     "metadata": {},
     "output_type": "execute_result"
    }
   ],
   "source": [
    "menu"
   ]
  },
  {
   "cell_type": "code",
   "execution_count": 69,
   "id": "bored-economy",
   "metadata": {},
   "outputs": [
    {
     "data": {
      "text/plain": [
       "(array([[ 2, 10],\n",
       "        [ 3, 10],\n",
       "        [ 4, 10],\n",
       "        [ 5, 10],\n",
       "        [ 6,  9],\n",
       "        [ 7,  9]]),\n",
       " array([13]))"
      ]
     },
     "execution_count": 69,
     "metadata": {},
     "output_type": "execute_result"
    }
   ],
   "source": [
    "money = buy_icecream(menu,\"Banana\",money)\n",
    "menu, money\n"
   ]
  },
  {
   "cell_type": "markdown",
   "id": "cleared-singapore",
   "metadata": {},
   "source": [
    "메뉴없애기"
   ]
  },
  {
   "cell_type": "code",
   "execution_count": 70,
   "id": "floppy-colors",
   "metadata": {},
   "outputs": [],
   "source": [
    "truth = name != \"Banana\""
   ]
  },
  {
   "cell_type": "code",
   "execution_count": 71,
   "id": "champion-perspective",
   "metadata": {},
   "outputs": [],
   "source": [
    "name = name[truth]\n",
    "menu = menu[truth]"
   ]
  },
  {
   "cell_type": "code",
   "execution_count": 75,
   "id": "sufficient-bread",
   "metadata": {},
   "outputs": [
    {
     "data": {
      "text/plain": [
       "(array(['Chocolate', 'Vanila', 'strawberry', 'Orange', 'Apple'],\n",
       "       dtype='<U10'),\n",
       " array([[ 2, 10],\n",
       "        [ 3, 10],\n",
       "        [ 4, 10],\n",
       "        [ 5, 10],\n",
       "        [ 6,  9]]))"
      ]
     },
     "execution_count": 75,
     "metadata": {},
     "output_type": "execute_result"
    }
   ],
   "source": [
    "name,menu"
   ]
  },
  {
   "cell_type": "markdown",
   "id": "liked-nickel",
   "metadata": {},
   "source": [
    "재고 확인 후 리필"
   ]
  },
  {
   "cell_type": "code",
   "execution_count": 83,
   "id": "friendly-helmet",
   "metadata": {},
   "outputs": [
    {
     "data": {
      "text/plain": [
       "array([[10],\n",
       "       [ 4],\n",
       "       [10],\n",
       "       [10],\n",
       "       [ 9]])"
      ]
     },
     "execution_count": 83,
     "metadata": {},
     "output_type": "execute_result"
    }
   ],
   "source": [
    "money = buy_icecream(menu, \"Vanila\", money)\n",
    "stock = menu[:, feature==\"Stock\"]\n",
    "stock"
   ]
  },
  {
   "cell_type": "code",
   "execution_count": 84,
   "id": "adolescent-organizer",
   "metadata": {},
   "outputs": [
    {
     "data": {
      "text/plain": [
       "array([[ True],\n",
       "       [False],\n",
       "       [ True],\n",
       "       [ True],\n",
       "       [ True]])"
      ]
     },
     "execution_count": 84,
     "metadata": {},
     "output_type": "execute_result"
    }
   ],
   "source": [
    "stock > 5"
   ]
  },
  {
   "cell_type": "code",
   "execution_count": 86,
   "id": "parental-insulation",
   "metadata": {},
   "outputs": [
    {
     "data": {
      "text/plain": [
       "array([[10],\n",
       "       [10],\n",
       "       [10],\n",
       "       [10],\n",
       "       [ 9]])"
      ]
     },
     "execution_count": 86,
     "metadata": {},
     "output_type": "execute_result"
    }
   ],
   "source": [
    "stock = np.where(stock>5, stock, 10)\n",
    "stock"
   ]
  },
  {
   "cell_type": "code",
   "execution_count": null,
   "id": "rising-mumbai",
   "metadata": {},
   "outputs": [],
   "source": []
  }
 ],
 "metadata": {
  "kernelspec": {
   "display_name": "Python 3",
   "language": "python",
   "name": "python3"
  },
  "language_info": {
   "codemirror_mode": {
    "name": "ipython",
    "version": 3
   },
   "file_extension": ".py",
   "mimetype": "text/x-python",
   "name": "python",
   "nbconvert_exporter": "python",
   "pygments_lexer": "ipython3",
   "version": "3.8.5"
  }
 },
 "nbformat": 4,
 "nbformat_minor": 5
}
